{
  "nbformat": 4,
  "nbformat_minor": 0,
  "metadata": {
    "colab": {
      "provenance": [],
      "authorship_tag": "ABX9TyNgf6QhvkJf0eRy9glkjsXe",
      "include_colab_link": true
    },
    "kernelspec": {
      "name": "python3",
      "display_name": "Python 3"
    },
    "language_info": {
      "name": "python"
    }
  },
  "cells": [
    {
      "cell_type": "markdown",
      "metadata": {
        "id": "view-in-github",
        "colab_type": "text"
      },
      "source": [
        "<a href=\"https://colab.research.google.com/github/JhobanyT/Unidad2-S1-GuiaPracticaNumPy/blob/main/Gu%C3%ADa_Pr%C3%A1ctica_de_NumPy.ipynb\" target=\"_parent\"><img src=\"https://colab.research.google.com/assets/colab-badge.svg\" alt=\"Open In Colab\"/></a>"
      ]
    },
    {
      "cell_type": "markdown",
      "source": [
        "# **NUMPY**"
      ],
      "metadata": {
        "id": "JhSspBhJzsgJ"
      }
    },
    {
      "cell_type": "markdown",
      "source": [
        "# **Importar Numpy**"
      ],
      "metadata": {
        "id": "uVXOXh_Zzw8Q"
      }
    },
    {
      "cell_type": "code",
      "execution_count": 62,
      "metadata": {
        "id": "YQcLkRLjyWuB"
      },
      "outputs": [],
      "source": [
        "import numpy as np"
      ]
    },
    {
      "cell_type": "markdown",
      "source": [
        "# **1. Creación de Arrays**"
      ],
      "metadata": {
        "id": "kNxiiPU0PaSl"
      }
    },
    {
      "cell_type": "code",
      "source": [
        "# 1. Crea un array unidimensional (vector) con 5 elementos enteros de tu elección.\n",
        "arreglo = np.array([6,7,8,9,10])\n",
        "print('Arreglo de una dimensión:\\n',arreglo)"
      ],
      "metadata": {
        "colab": {
          "base_uri": "https://localhost:8080/"
        },
        "id": "Ld7ak2ClPebA",
        "outputId": "f204c605-bd52-418a-8a31-2b041c00d208"
      },
      "execution_count": 63,
      "outputs": [
        {
          "output_type": "stream",
          "name": "stdout",
          "text": [
            "Arreglo de una dimensión:\n",
            " [ 6  7  8  9 10]\n"
          ]
        }
      ]
    },
    {
      "cell_type": "code",
      "source": [
        "# 2. Crea una matriz bidimensional (matriz) de tamaño 3x3 con valores enteros consecutivos.\n",
        "matriz_bidimensional = np.arange(1, 10).reshape(3, 3)\n",
        "print('Matriz bidimensional:\\n',matriz_bidimensional)"
      ],
      "metadata": {
        "colab": {
          "base_uri": "https://localhost:8080/"
        },
        "id": "qAu2gBivQGK1",
        "outputId": "21002088-d1da-4186-c66b-b3d22e25df3f"
      },
      "execution_count": 64,
      "outputs": [
        {
          "output_type": "stream",
          "name": "stdout",
          "text": [
            "Matriz bidimensional:\n",
            " [[1 2 3]\n",
            " [4 5 6]\n",
            " [7 8 9]]\n"
          ]
        }
      ]
    },
    {
      "cell_type": "code",
      "source": [
        "# 3. Utiliza la función np.zeros() para crear una matriz de tamaño 2x4 llena de ceros.\n",
        "matriz_ceros = np.zeros((2,4),int)\n",
        "print('Tabla con valores ceros:\\n',matriz_ceros)"
      ],
      "metadata": {
        "colab": {
          "base_uri": "https://localhost:8080/"
        },
        "id": "D1NI-n5cQiH_",
        "outputId": "d792241c-d8f2-4b33-f599-04111873e39a"
      },
      "execution_count": 65,
      "outputs": [
        {
          "output_type": "stream",
          "name": "stdout",
          "text": [
            "Tabla con valores ceros:\n",
            " [[0 0 0 0]\n",
            " [0 0 0 0]]\n"
          ]
        }
      ]
    },
    {
      "cell_type": "code",
      "source": [
        "# 4. Utiliza la función np.ones() para crear una matriz de tamaño 3x2 llena de unos.\n",
        "matriz_unos = np.ones((3,2),int)\n",
        "print('Tabla con valores unos:\\n',matriz_unos)"
      ],
      "metadata": {
        "colab": {
          "base_uri": "https://localhost:8080/"
        },
        "id": "FKdKyRJmRdzv",
        "outputId": "0f670166-2109-45f1-87b1-37df08da99f5"
      },
      "execution_count": 66,
      "outputs": [
        {
          "output_type": "stream",
          "name": "stdout",
          "text": [
            "Tabla con valores unos:\n",
            " [[1 1]\n",
            " [1 1]\n",
            " [1 1]]\n"
          ]
        }
      ]
    },
    {
      "cell_type": "code",
      "source": [
        "# 5. Utiliza la función np.random.randint() para crear una matriz de tamaño 4x4 con números enteros aleatorios entre 0 y 10.\n",
        "matriz_random_1_10 = np.random.randint(0, 11, size=(4, 4))\n",
        "print('Tabla con valores Random del 0 al 10:\\n',matriz_random_1_10)"
      ],
      "metadata": {
        "colab": {
          "base_uri": "https://localhost:8080/"
        },
        "id": "OdQ0sg1HRufK",
        "outputId": "6336bf5d-9b07-407f-fd9b-7da2b106a436"
      },
      "execution_count": 67,
      "outputs": [
        {
          "output_type": "stream",
          "name": "stdout",
          "text": [
            "Tabla con valores Random del 0 al 10:\n",
            " [[10 10  0  1]\n",
            " [ 5  1 10  4]\n",
            " [ 1  9  7  9]\n",
            " [ 1  6  8  5]]\n"
          ]
        }
      ]
    },
    {
      "cell_type": "markdown",
      "source": [
        "# **2. Acceso a Elementos**"
      ],
      "metadata": {
        "id": "Nvtl_EZhSUXD"
      }
    },
    {
      "cell_type": "code",
      "source": [
        "# 1. Accede al tercer elemento del vector creado en el paso 1.\n",
        "tercer_elemento_arreglo = arreglo[2]\n",
        "print(\"El tercer elemento del vector 1 es: \", tercer_elemento_arreglo)"
      ],
      "metadata": {
        "colab": {
          "base_uri": "https://localhost:8080/"
        },
        "id": "Sp3d-vrvSZAC",
        "outputId": "9e5cedc1-bcce-4797-c54d-abcd51ad6900"
      },
      "execution_count": 68,
      "outputs": [
        {
          "output_type": "stream",
          "name": "stdout",
          "text": [
            "El tercer elemento del vector 1 es:  8\n"
          ]
        }
      ]
    },
    {
      "cell_type": "code",
      "source": [
        "# 2. Accede al elemento en la segunda fila y segunda columna de la matriz creada en el paso 2.\n",
        "elemento_fila2_columna2 = matriz_bidimensional[1, 1]\n",
        "print('Elemento en la segunda fila y segunda columna:', elemento_fila2_columna2)"
      ],
      "metadata": {
        "colab": {
          "base_uri": "https://localhost:8080/"
        },
        "id": "8e1VJ0ZFSwNq",
        "outputId": "b99bf778-e908-4a90-afd1-cb8028fcb340"
      },
      "execution_count": 69,
      "outputs": [
        {
          "output_type": "stream",
          "name": "stdout",
          "text": [
            "Elemento en la segunda fila y segunda columna: 5\n"
          ]
        }
      ]
    },
    {
      "cell_type": "markdown",
      "source": [
        "# **3. Propiedades de los Arrays**"
      ],
      "metadata": {
        "id": "1Zwg02F6ULpV"
      }
    },
    {
      "cell_type": "code",
      "source": [
        "# 1. Utiliza el atributo ndim para verificar la cantidad de dimensiones de la matriz creada en el paso 2.\n",
        "print('El arreglo tiene:',matriz_bidimensional.ndim, \"dimensiones\")"
      ],
      "metadata": {
        "colab": {
          "base_uri": "https://localhost:8080/"
        },
        "id": "9w0sRCVCUN-4",
        "outputId": "5c5dbc75-f7bf-4df7-f821-744e6c3c9d5f"
      },
      "execution_count": 70,
      "outputs": [
        {
          "output_type": "stream",
          "name": "stdout",
          "text": [
            "El arreglo tiene: 2 dimensiones\n"
          ]
        }
      ]
    },
    {
      "cell_type": "code",
      "source": [
        "# 2. Utiliza el atributo shape para obtener la forma de la matriz creada en el paso 2.\n",
        "print('Número de filas y columnas de la matriz bimensional:',matriz_bidimensional.shape)"
      ],
      "metadata": {
        "colab": {
          "base_uri": "https://localhost:8080/"
        },
        "id": "mQLlmgiLUSk7",
        "outputId": "70a195ee-9064-46d8-9157-ec8747a00f2a"
      },
      "execution_count": 71,
      "outputs": [
        {
          "output_type": "stream",
          "name": "stdout",
          "text": [
            "Número de filas y columnas de la matriz bimensional: (3, 3)\n"
          ]
        }
      ]
    },
    {
      "cell_type": "code",
      "source": [
        "# 3. Utiliza el atributo size para obtener el tamaño total de la matriz creada en el paso 2.\n",
        "print('los elementos de la matriz bidimensional son:',matriz_bidimensional.size)"
      ],
      "metadata": {
        "colab": {
          "base_uri": "https://localhost:8080/"
        },
        "id": "0TTDxAFkUVpB",
        "outputId": "728429b4-2962-410b-d7e0-6242019cdb6b"
      },
      "execution_count": 72,
      "outputs": [
        {
          "output_type": "stream",
          "name": "stdout",
          "text": [
            "los elementos de la matriz bidimensional son: 9\n"
          ]
        }
      ]
    },
    {
      "cell_type": "markdown",
      "source": [
        "# **4. Operaciones Básicas**"
      ],
      "metadata": {
        "id": "5--vS_AVVZk7"
      }
    },
    {
      "cell_type": "code",
      "source": [
        "# 1. Suma dos matrices de tamaño 2x2 con valores aleatorios entre 0 y 10.\n",
        "matriz_1 = np.random.randint(0, 11, (2, 2))\n",
        "matriz_2 = np.random.randint(0, 11, (2, 2))\n",
        "suma = matriz_1 + matriz_2\n",
        "print(\"La suma de las dos matrices es:\\n\", suma)"
      ],
      "metadata": {
        "colab": {
          "base_uri": "https://localhost:8080/"
        },
        "id": "jvW-55B5Vb6n",
        "outputId": "68bbe202-a504-405c-8075-75f39ca6605c"
      },
      "execution_count": 73,
      "outputs": [
        {
          "output_type": "stream",
          "name": "stdout",
          "text": [
            "La suma de las dos matrices es:\n",
            " [[ 8 13]\n",
            " [17 11]]\n"
          ]
        }
      ]
    },
    {
      "cell_type": "code",
      "source": [
        "# 2. Multiplica dos matrices de tamaño 3x2 y 2x3 respectivamente.\n",
        "matriz_3 = np.random.randint(0, 11, (3, 2))\n",
        "matriz_4 = np.random.randint(0, 11, (2, 3))\n",
        "multiplicacion = np.dot(matriz_3, matriz_4)\n",
        "print(\"La multiplicación de las dos matrices es:\\n\", multiplicacion)"
      ],
      "metadata": {
        "colab": {
          "base_uri": "https://localhost:8080/"
        },
        "id": "xfX7fuW8VkZJ",
        "outputId": "6f5742fe-0f2f-4c96-bd60-e149e4f829be"
      },
      "execution_count": 74,
      "outputs": [
        {
          "output_type": "stream",
          "name": "stdout",
          "text": [
            "La multiplicación de las dos matrices es:\n",
            " [[ 50 100  90]\n",
            " [ 10  26  30]\n",
            " [ 20  70  96]]\n"
          ]
        }
      ]
    },
    {
      "cell_type": "code",
      "source": [
        "# 3. Divide una matriz de tamaño 2x2 por otra matriz de tamaño 2x2,\n",
        "# utilizando tanto la división por elementos como la multiplicación por la inversa.\n",
        "\n",
        "matriz_5 = np.random.randint(1, 11, (2, 2))\n",
        "matriz_6 = np.random.randint(1, 11, (2, 2))\n",
        "\n",
        "print('Matriz E:\\n', matriz_5)\n",
        "print('Matriz F:\\n', matriz_6,'\\n')\n",
        "\n",
        "# División por elementos\n",
        "division_elementos = matriz_5 / matriz_6\n",
        "print('División por elementos:\\n', division_elementos,'\\n')\n",
        "\n",
        "# Multiplicación por la inversa\n",
        "inversa_matriz_f = np.linalg.inv(matriz_6)\n",
        "multiplicacion_inversa = np.matmul(matriz_5, inversa_matriz_f)\n",
        "print('Multiplicación por la inversa:\\n', multiplicacion_inversa)"
      ],
      "metadata": {
        "colab": {
          "base_uri": "https://localhost:8080/"
        },
        "id": "Kl8HYeTMVrqS",
        "outputId": "9ca89abf-fb44-4adc-978b-87b388d1452e"
      },
      "execution_count": 75,
      "outputs": [
        {
          "output_type": "stream",
          "name": "stdout",
          "text": [
            "Matriz E:\n",
            " [[7 4]\n",
            " [3 7]]\n",
            "Matriz F:\n",
            " [[5 8]\n",
            " [1 8]] \n",
            "\n",
            "División por elementos:\n",
            " [[1.4   0.5  ]\n",
            " [3.    0.875]] \n",
            "\n",
            "Multiplicación por la inversa:\n",
            " [[ 1.625   -1.125  ]\n",
            " [ 0.53125  0.34375]]\n"
          ]
        }
      ]
    },
    {
      "cell_type": "markdown",
      "source": [
        "# **5. Manipulación de Arrays**"
      ],
      "metadata": {
        "id": "MgMIU2JlYOKz"
      }
    },
    {
      "cell_type": "code",
      "source": [
        "# 1. Utiliza la función reshape() para convertir el vector creado en el paso 2 en una matriz de tamaño 9x1.\n",
        "matriz_9x1 = matriz_bidimensional.reshape(9, 1)\n",
        "print('Matriz 9x1:\\n', matriz_9x1)"
      ],
      "metadata": {
        "colab": {
          "base_uri": "https://localhost:8080/"
        },
        "id": "rITMChg-YX4G",
        "outputId": "124ad51c-de73-43f8-d090-be9b3279b828"
      },
      "execution_count": 76,
      "outputs": [
        {
          "output_type": "stream",
          "name": "stdout",
          "text": [
            "Matriz 9x1:\n",
            " [[1]\n",
            " [2]\n",
            " [3]\n",
            " [4]\n",
            " [5]\n",
            " [6]\n",
            " [7]\n",
            " [8]\n",
            " [9]]\n"
          ]
        }
      ]
    },
    {
      "cell_type": "code",
      "source": [
        "# 2. Utiliza la función flatten() para convertir la matriz creada en el paso 2 en un vector unidimensional.\n",
        "vector_unidimensional = matriz_bidimensional.flatten()\n",
        "print('Vector unidimensional:\\n', vector_unidimensional)"
      ],
      "metadata": {
        "colab": {
          "base_uri": "https://localhost:8080/"
        },
        "id": "w4ycT-_hYccF",
        "outputId": "80ce4668-8578-4297-cb3e-2e65ee06d4d9"
      },
      "execution_count": 77,
      "outputs": [
        {
          "output_type": "stream",
          "name": "stdout",
          "text": [
            "Vector unidimensional:\n",
            " [1 2 3 4 5 6 7 8 9]\n"
          ]
        }
      ]
    },
    {
      "cell_type": "markdown",
      "source": [
        "# **6. Operaciones Estadísticas**"
      ],
      "metadata": {
        "id": "sfBW-RiNZJLp"
      }
    },
    {
      "cell_type": "code",
      "source": [
        "# 1. Calcula la suma de todos los elementos de la matriz creada en el paso 2.\n",
        "suma_total = np.sum(matriz_bidimensional)\n",
        "print('La suma de todos los elementos de la matriz es:', suma_total)"
      ],
      "metadata": {
        "colab": {
          "base_uri": "https://localhost:8080/"
        },
        "id": "lJ8Tz_VPZLOc",
        "outputId": "233cc696-0974-4942-eea5-e6e22d2bcb12"
      },
      "execution_count": 78,
      "outputs": [
        {
          "output_type": "stream",
          "name": "stdout",
          "text": [
            "La suma de todos los elementos de la matriz es: 45\n"
          ]
        }
      ]
    },
    {
      "cell_type": "code",
      "source": [
        "# 2. Calcula la media de cada fila de la matriz creada en el paso 2.\n",
        "media_por_fila = np.mean(matriz_bidimensional, axis=1)\n",
        "print('La media de cada fila de la matriz es:', media_por_fila)"
      ],
      "metadata": {
        "colab": {
          "base_uri": "https://localhost:8080/"
        },
        "id": "IzuLomGOZZ5R",
        "outputId": "39f295ad-51db-40ed-b9d0-c8add9424879"
      },
      "execution_count": 79,
      "outputs": [
        {
          "output_type": "stream",
          "name": "stdout",
          "text": [
            "La media de cada fila de la matriz es: [2. 5. 8.]\n"
          ]
        }
      ]
    },
    {
      "cell_type": "markdown",
      "source": [
        "# **7. Indexación y Rebanado**"
      ],
      "metadata": {
        "id": "ZRZMf2BnaPLu"
      }
    },
    {
      "cell_type": "code",
      "source": [
        "# 1. Imprime la primera fila de la matriz creada en el paso 2.\n",
        "primera_fila = matriz_bidimensional[0]\n",
        "print('Primera fila de la matriz:', primera_fila)"
      ],
      "metadata": {
        "colab": {
          "base_uri": "https://localhost:8080/"
        },
        "id": "rI0AxnTXaZkV",
        "outputId": "dc1013f0-a224-4195-c450-6e002d60ed35"
      },
      "execution_count": 84,
      "outputs": [
        {
          "output_type": "stream",
          "name": "stdout",
          "text": [
            "Primera fila de la matriz: [1 2 3]\n"
          ]
        }
      ]
    },
    {
      "cell_type": "code",
      "source": [
        "# 2. Imprime las primeras dos columnas de la matriz creada en el paso 2.\n",
        "primeras_dos_columnas = matriz_bidimensional[:, :2]\n",
        "print('Primeras dos columnas de la matriz:\\n', primeras_dos_columnas)"
      ],
      "metadata": {
        "colab": {
          "base_uri": "https://localhost:8080/"
        },
        "id": "1NdE2QF9aokr",
        "outputId": "61d09021-1208-4f29-e02f-4e507c7def7f"
      },
      "execution_count": 85,
      "outputs": [
        {
          "output_type": "stream",
          "name": "stdout",
          "text": [
            "Primeras dos columnas de la matriz:\n",
            " [[1 2]\n",
            " [4 5]\n",
            " [7 8]]\n"
          ]
        }
      ]
    },
    {
      "cell_type": "markdown",
      "source": [
        "# **8. Ejercicio Adicional**"
      ],
      "metadata": {
        "id": "cPp28Hbob-tE"
      }
    },
    {
      "cell_type": "code",
      "source": [
        "# 1. efine una matriz de tamaño 4x4 con valores aleatorios.\n",
        "matriz_aleatoria = np.random.rand(4, 4)\n",
        "print('Matriz aleatoria 4x4:\\n', matriz_aleatoria)"
      ],
      "metadata": {
        "colab": {
          "base_uri": "https://localhost:8080/"
        },
        "id": "QwSsIYT3cH4Y",
        "outputId": "040457b7-6379-4e0e-9271-a9b9dd46b0b2"
      },
      "execution_count": 86,
      "outputs": [
        {
          "output_type": "stream",
          "name": "stdout",
          "text": [
            "Matriz aleatoria 4x4:\n",
            " [[0.74396161 0.16943888 0.04050581 0.24384907]\n",
            " [0.40933519 0.41918824 0.44954569 0.58937373]\n",
            " [0.68000462 0.58783226 0.92426179 0.21748164]\n",
            " [0.11985204 0.49336033 0.90283421 0.64932719]]\n"
          ]
        }
      ]
    },
    {
      "cell_type": "code",
      "source": [
        "# 2. Escribe un código para encontrar el valor máximo y mínimo de la matriz, así como su posición.\n",
        "\n",
        "# Encontrar el valor máximo y su posición\n",
        "max_valor = np.max(matriz_aleatoria)\n",
        "max_posicion = np.argmax(matriz_aleatoria)\n",
        "max_posicion_fila = max_posicion // matriz_aleatoria.shape[1]  # Calcular la fila\n",
        "max_posicion_columna = max_posicion % matriz_aleatoria.shape[1]  # Calcular la columna\n",
        "\n",
        "print('Valor máximo:', max_valor)\n",
        "print('Posición del valor máximo (fila, columna):', (max_posicion_fila, max_posicion_columna))\n",
        "\n",
        "# Encontrar el valor mínimo y su posición\n",
        "min_valor = np.min(matriz_aleatoria)\n",
        "min_posicion = np.argmin(matriz_aleatoria)\n",
        "min_posicion_fila = min_posicion // matriz_aleatoria.shape[1]  # Calcular la fila\n",
        "min_posicion_columna = min_posicion % matriz_aleatoria.shape[1]  # Calcular la columna\n",
        "\n",
        "print('Valor mínimo:', min_valor)\n",
        "print('Posición del valor mínimo (fila, columna):', (min_posicion_fila, min_posicion_columna))"
      ],
      "metadata": {
        "colab": {
          "base_uri": "https://localhost:8080/"
        },
        "id": "uYMq92UKcKsE",
        "outputId": "3b98bb5b-f859-4147-d4c0-cd418f6994f6"
      },
      "execution_count": 87,
      "outputs": [
        {
          "output_type": "stream",
          "name": "stdout",
          "text": [
            "Valor máximo: 0.9242617933539763\n",
            "Posición del valor máximo (fila, columna): (2, 2)\n",
            "Valor mínimo: 0.040505805257062044\n",
            "Posición del valor mínimo (fila, columna): (0, 2)\n"
          ]
        }
      ]
    }
  ]
}